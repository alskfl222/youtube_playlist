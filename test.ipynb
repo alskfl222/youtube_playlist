{
 "cells": [
  {
   "cell_type": "code",
   "execution_count": 1,
   "metadata": {},
   "outputs": [
    {
     "name": "stdout",
     "output_type": "stream",
     "text": [
      "START crawling\n",
      "FIND 18 lists in 날림v CHANNEL\n",
      "GET BGM Data from 날림v CHANNEL in 58.24s\n",
      "END crawling\n",
      "=======================\n"
     ]
    }
   ],
   "source": [
    "from Crawling import Crawling\n",
    "\n",
    "crawl = Crawling()\n",
    "BGM_data = crawl.get_BGM_data()"
   ]
  },
  {
   "cell_type": "code",
   "execution_count": 2,
   "metadata": {},
   "outputs": [
    {
     "name": "stdout",
     "output_type": "stream",
     "text": [
      "DATABASE READY\n",
      "USER : alskfl\n",
      "Crawled BGM count: 1206\n",
      "Before BGM count: 1206\n",
      "New BGM count: 0\n",
      "Deleted BGM count: 0\n",
      "Table song updated\n",
      "=======================\n",
      "Crawled list count: 18\n",
      "BGM 2020 07 (PLj63tGIo1sSq_E5c9ptp8xPBcS6tANq18): deleted\n",
      "BGM 2020 08 (PLj63tGIo1sSqZgEo3it5d7hnVo3lIgKRp): deleted\n",
      "BGM 2020 09 (PLj63tGIo1sSphQ5n5OEL2m_EzISuNwCpI): deleted\n",
      "BGM 2020 10 (PLj63tGIo1sSr17V1Rme01a18KXvHDOyRk): deleted\n",
      "BGM 2020 11 (PLj63tGIo1sSrymhqcZjGN5RpkXcx2-Qse): deleted\n",
      "BGM 2020 12 (PLj63tGIo1sSpUZJeAAAl30dsUmyJQvQ7J): deleted\n",
      "BGM 2021 01 (PLj63tGIo1sSo9GtiWnSNxr5PNCsRSgqFX): deleted\n",
      "BGM 2021 02 (PLj63tGIo1sSq9NXV8qpkzQaSFLXxK9Pji): deleted\n",
      "BGM 2021 03 (PLj63tGIo1sSrKSDvgeRhP3WJa7yszI247): deleted\n",
      "BGM 2021 04 (PLj63tGIo1sSqmoXWRh96aMgulu-VR0qzr): deleted\n",
      "BGM 2021 05 (PLj63tGIo1sSqYOG0UIx6G5BbJmDKl1TXx): deleted\n",
      "BGM 2021 06 (PLj63tGIo1sSqievrWIwa7k5VvcGMCatld): deleted\n",
      "BGM 2021 07 (PLj63tGIo1sSpDwSJxMGSED_gA1KVr8PdT): deleted\n",
      "BGM 2021 08 (PLj63tGIo1sSra3EYTtpean0kw9XOdJzd4): deleted\n",
      "BGM 2021 09 (PLj63tGIo1sSoJUOUTqnhpKryf87f1034o): deleted\n",
      "BGM 2021 10 (PLj63tGIo1sSrAijwosgz5PNrY6yQnqwkR): deleted\n",
      "BGM 2021 11 (PLj63tGIo1sSpmoVd1qrJMdL_qGWymbCw0): deleted\n",
      "BGM 2021 12 (PLj63tGIo1sSqrSt2TnyOgiJbtb1Tb0K0a): deleted\n",
      "Inserted list count: 0\n",
      "Deleted list count: 18\n",
      "Table list updated\n",
      "=======================\n"
     ]
    }
   ],
   "source": [
    "from Database import Database\n",
    "DB = Database('alskfl')\n",
    "DB.update_song(BGM_data)\n",
    "DB.update_list(BGM_data)"
   ]
  },
  {
   "cell_type": "code",
   "execution_count": 14,
   "metadata": {},
   "outputs": [],
   "source": [
    "def update_list(BGM_data):\n",
    "    keys = (k for k in BGM_data.keys())\n",
    "    values = (v['href'] for v in BGM_data.values())\n",
    "    print(f\"Crawled list count: {len(BGM_data.keys())}\")\n",
    "    list_items = list(zip(keys, values))\n",
    "\n",
    "    db = DB.connect()\n",
    "    cursor = db.cursor()\n",
    "    sql = f'''\n",
    "        SELECT name, href FROM list\n",
    "    '''\n",
    "    cursor.execute(sql)\n",
    "    exist = [(x[0], x[1]) for x in cursor.fetchall()]\n",
    "    insert = [(x[0], x[1]) for x in list_items if x[1] not in [y[1] for y in exist]]\n",
    "    deleted = [x for x in exist if x[1] not in [y[1] for y in list_items]]\n",
    "\n",
    "    insert_count = 0\n",
    "    for item in insert:\n",
    "        sql = f'''\n",
    "            INSERT INTO item\n",
    "            (name, href, user_id)\n",
    "            VALUES\n",
    "            (\"{item[0]}\", \"{item[1]}\", {DB.user_id});\n",
    "        '''\n",
    "        print(f\"{item[0]} ({item[1]}): inserted\")\n",
    "        cursor.execute(sql)    \n",
    "        insert_count += 1\n",
    "    \n",
    "    deleted_count = 0\n",
    "    for item in deleted:\n",
    "        sql = f'''\n",
    "            UPDATE item\n",
    "            SET deleted = 1\n",
    "            WHERE href = \"{item[1]}\"\n",
    "            AND deleted = 0\n",
    "        '''\n",
    "        print(f\"{item[0]} ({item[1]}): deleted\")\n",
    "        cursor.execute(sql)\n",
    "        deleted_count += 1\n",
    "\n",
    "    db.commit()\n",
    "    db.close()  \n",
    "    print(f\"Inserted list count: {insert_count}\")\n",
    "    print(f\"Deleted list count: {deleted_count}\")\n",
    "    print(\"Table list updated\")\n",
    "    print(\"=======================\")"
   ]
  },
  {
   "cell_type": "code",
   "execution_count": 15,
   "metadata": {},
   "outputs": [
    {
     "name": "stdout",
     "output_type": "stream",
     "text": [
      "Crawled list count: 18\n",
      "Inserted list count: 0\n",
      "Deleted list count: 0\n",
      "Table list updated\n",
      "=======================\n"
     ]
    }
   ],
   "source": [
    "update_list(BGM_data)"
   ]
  },
  {
   "cell_type": "markdown",
   "metadata": {},
   "source": [
    "![](youtube_playlist.png)"
   ]
  }
 ],
 "metadata": {
  "interpreter": {
   "hash": "c2e7b7208468006d91e84aa0fa5fd965cd6727d296b96d5616100a374c9d620b"
  },
  "kernelspec": {
   "display_name": "Python 3.9.1 64-bit ('3.9.1': pyenv)",
   "language": "python",
   "name": "python3"
  },
  "language_info": {
   "codemirror_mode": {
    "name": "ipython",
    "version": 3
   },
   "file_extension": ".py",
   "mimetype": "text/x-python",
   "name": "python",
   "nbconvert_exporter": "python",
   "pygments_lexer": "ipython3",
   "version": "3.9.1"
  },
  "orig_nbformat": 4
 },
 "nbformat": 4,
 "nbformat_minor": 2
}
