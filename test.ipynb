{
 "cells": [
  {
   "cell_type": "code",
   "execution_count": 11,
   "metadata": {},
   "outputs": [],
   "source": [
    "import os\n",
    "import time\n",
    "import datetime\n",
    "# import pymysql\n",
    "# import itertools\n",
    "\n",
    "from selenium import webdriver\n",
    "from selenium.webdriver.common.by import By\n",
    "from selenium.webdriver.chrome.service import Service\n",
    "from webdriver_manager.chrome import ChromeDriverManager\n",
    "os.environ['WDM_LOG_LEVEL'] = '0'\n",
    "YOUTUBE_CHANNEL = '날림v'"
   ]
  },
  {
   "cell_type": "code",
   "execution_count": 12,
   "metadata": {},
   "outputs": [],
   "source": [
    "def init_driver():\n",
    "    service = Service(ChromeDriverManager().install())\n",
    "    options = webdriver.ChromeOptions()\n",
    "    # options.add_argument(\"headless\")\n",
    "    options.add_argument(\"--log-level=3\")\n",
    "    driver = webdriver.Chrome(service=service, options=options)\n",
    "    driver.set_window_size(1280, 1024)\n",
    "    return driver"
   ]
  },
  {
   "cell_type": "code",
   "execution_count": 13,
   "metadata": {},
   "outputs": [],
   "source": [
    "def infinite_scroll (driver, SCROLL_PAUSE_TIME):\n",
    "   time.sleep(SCROLL_PAUSE_TIME)\n",
    "\n",
    "   while True:\n",
    "      last_height = driver.execute_script(\"return document.documentElement.scrollHeight\")\n",
    "      driver.execute_script(\"window.scrollTo(0, document.documentElement.scrollHeight);\")\n",
    "\n",
    "      time.sleep(SCROLL_PAUSE_TIME)\n",
    "\n",
    "      new_height = driver.execute_script(\"return document.documentElement.scrollHeight\")\n",
    "      if new_height == last_height:\n",
    "         break\n",
    "      last_height = new_height"
   ]
  },
  {
   "cell_type": "code",
   "execution_count": 14,
   "metadata": {},
   "outputs": [],
   "source": [
    "def get_BGM_lists(driver, YOUTUBE_CHANNEL, SCROLL_PAUSE_TIME=2):\n",
    "    driver.get(f'https://www.youtube.com/c/{YOUTUBE_CHANNEL}/playlists?view=1&sort=dd&shelf_id=0')\n",
    "    infinite_scroll(driver, SCROLL_PAUSE_TIME)\n",
    "\n",
    "    playlists = driver.find_elements(By.CSS_SELECTOR, '#items > ytd-grid-playlist-renderer')\n",
    "    BGM_lists = [x.find_element(By.CSS_SELECTOR, '#video-title') for x in playlists\n",
    "                if any(word in x.find_element(By.CSS_SELECTOR, '#video-title').text for word in ['BGM'])]\n",
    "\n",
    "    playlist_href = [x.get_attribute(\"href\").split('=')[-1] for x in BGM_lists]\n",
    "    playlist_title = [x.text for x in BGM_lists]\n",
    "    BGM_lists = sorted(dict(zip(playlist_title, playlist_href)).items())\n",
    "\n",
    "    return BGM_lists"
   ]
  },
  {
   "cell_type": "code",
   "execution_count": 15,
   "metadata": {},
   "outputs": [
    {
     "name": "stdout",
     "output_type": "stream",
     "text": [
      "[('BGM 2020 07', 'PLj63tGIo1sSq_E5c9ptp8xPBcS6tANq18'), ('BGM 2020 08', 'PLj63tGIo1sSqZgEo3it5d7hnVo3lIgKRp'), ('BGM 2020 09', 'PLj63tGIo1sSphQ5n5OEL2m_EzISuNwCpI'), ('BGM 2020 10', 'PLj63tGIo1sSr17V1Rme01a18KXvHDOyRk'), ('BGM 2020 11', 'PLj63tGIo1sSrymhqcZjGN5RpkXcx2-Qse'), ('BGM 2020 12', 'PLj63tGIo1sSpUZJeAAAl30dsUmyJQvQ7J'), ('BGM 2021 01', 'PLj63tGIo1sSo9GtiWnSNxr5PNCsRSgqFX'), ('BGM 2021 02', 'PLj63tGIo1sSq9NXV8qpkzQaSFLXxK9Pji'), ('BGM 2021 03', 'PLj63tGIo1sSrKSDvgeRhP3WJa7yszI247'), ('BGM 2021 04', 'PLj63tGIo1sSqmoXWRh96aMgulu-VR0qzr'), ('BGM 2021 05', 'PLj63tGIo1sSqYOG0UIx6G5BbJmDKl1TXx'), ('BGM 2021 06', 'PLj63tGIo1sSqievrWIwa7k5VvcGMCatld'), ('BGM 2021 07', 'PLj63tGIo1sSpDwSJxMGSED_gA1KVr8PdT'), ('BGM 2021 08', 'PLj63tGIo1sSra3EYTtpean0kw9XOdJzd4'), ('BGM 2021 09', 'PLj63tGIo1sSoJUOUTqnhpKryf87f1034o'), ('BGM 2021 10', 'PLj63tGIo1sSrAijwosgz5PNrY6yQnqwkR'), ('BGM 2021 11', 'PLj63tGIo1sSpmoVd1qrJMdL_qGWymbCw0'), ('BGM 2021 12', 'PLj63tGIo1sSqrSt2TnyOgiJbtb1Tb0K0a')]\n"
     ]
    }
   ],
   "source": [
    "driver = init_driver()\n",
    "BGM_lists = get_BGM_lists(driver, YOUTUBE_CHANNEL)\n",
    "print(BGM_lists)"
   ]
  },
  {
   "cell_type": "code",
   "execution_count": null,
   "metadata": {},
   "outputs": [],
   "source": [
    "playlists = driver.find_elements(By.CSS_SELECTOR, '#items > ytd-grid-playlist-renderer')\n",
    "BGM_lists = [x.find_element(By.CSS_SELECTOR, '#video-title').text for x in playlists\n",
    "            if any(word in x.find_element(By.CSS_SELECTOR, '#video-title').text for word in ['BGM'])]"
   ]
  },
  {
   "cell_type": "code",
   "execution_count": null,
   "metadata": {},
   "outputs": [],
   "source": [
    "BGM_lists.sort()\n",
    "print(BGM_lists)"
   ]
  }
 ],
 "metadata": {
  "interpreter": {
   "hash": "c2e7b7208468006d91e84aa0fa5fd965cd6727d296b96d5616100a374c9d620b"
  },
  "kernelspec": {
   "display_name": "Python 3.9.1 64-bit ('3.9.1': pyenv)",
   "language": "python",
   "name": "python3"
  },
  "language_info": {
   "codemirror_mode": {
    "name": "ipython",
    "version": 3
   },
   "file_extension": ".py",
   "mimetype": "text/x-python",
   "name": "python",
   "nbconvert_exporter": "python",
   "pygments_lexer": "ipython3",
   "version": "3.9.1"
  },
  "orig_nbformat": 4
 },
 "nbformat": 4,
 "nbformat_minor": 2
}
