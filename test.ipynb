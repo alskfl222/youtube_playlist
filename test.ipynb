{
 "cells": [
  {
   "cell_type": "code",
   "execution_count": 1,
   "metadata": {},
   "outputs": [
    {
     "name": "stdout",
     "output_type": "stream",
     "text": [
      "START crawling\n",
      "FIND 19 lists in 날림v CHANNEL\n",
      "GET BGM Data from 날림v CHANNEL in 58.70s\n",
      "END crawling\n",
      "=======================\n"
     ]
    }
   ],
   "source": [
    "from Crawling import Crawling\n",
    "\n",
    "crawl = Crawling()\n",
    "BGM_data = crawl.get_BGM_data()"
   ]
  },
  {
   "cell_type": "code",
   "execution_count": 2,
   "metadata": {},
   "outputs": [
    {
     "name": "stdout",
     "output_type": "stream",
     "text": [
      "DATABASE READY\n",
      "USER : alskfl\n",
      "Crawled BGM count: 1230\n",
      "Before BGM count: 1230\n",
      "New BGM count: 0\n",
      "Deleted BGM count: 0\n",
      "Table song updated\n",
      "=======================\n",
      "Crawled list count: 19\n",
      "Inserted list count: 0\n",
      "Deleted list count: 0\n",
      "Table list updated\n",
      "=======================\n",
      "BGM 2020 07 : 0 songs added\n",
      "BGM 2020 08 : 0 songs added\n",
      "BGM 2020 09 : 0 songs added\n",
      "BGM 2020 10 : 0 songs added\n",
      "BGM 2020 11 : 0 songs added\n",
      "BGM 2020 12 : 0 songs added\n",
      "BGM 2021 01 : 0 songs added\n",
      "BGM 2021 02 : 0 songs added\n",
      "BGM 2021 03 : 0 songs added\n",
      "BGM 2021 04 : 0 songs added\n",
      "BGM 2021 05 : 0 songs added\n",
      "BGM 2021 06 : 0 songs added\n",
      "BGM 2021 07 : 0 songs added\n",
      "BGM 2021 08 : 0 songs added\n",
      "BGM 2021 09 : 0 songs added\n",
      "BGM 2021 10 : 0 songs added\n",
      "BGM 2021 11 : 0 songs added\n",
      "BGM 2021 12 : 0 songs added\n",
      "BGM 2022 01 : 0 songs added\n"
     ]
    }
   ],
   "source": [
    "from Database import Database\n",
    "DB = Database('alskfl')\n",
    "DB.update_song(BGM_data)\n",
    "DB.update_list(BGM_data)\n",
    "DB.update_song_list(BGM_data)"
   ]
  },
  {
   "cell_type": "markdown",
   "metadata": {},
   "source": [
    "![](youtube_playlist.png)"
   ]
  }
 ],
 "metadata": {
  "interpreter": {
   "hash": "c2e7b7208468006d91e84aa0fa5fd965cd6727d296b96d5616100a374c9d620b"
  },
  "kernelspec": {
   "display_name": "Python 3.9.1 64-bit ('3.9.1': pyenv)",
   "language": "python",
   "name": "python3"
  },
  "language_info": {
   "codemirror_mode": {
    "name": "ipython",
    "version": 3
   },
   "file_extension": ".py",
   "mimetype": "text/x-python",
   "name": "python",
   "nbconvert_exporter": "python",
   "pygments_lexer": "ipython3",
   "version": "3.9.1"
  },
  "orig_nbformat": 4
 },
 "nbformat": 4,
 "nbformat_minor": 2
}
