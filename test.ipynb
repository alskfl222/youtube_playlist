{
 "cells": [
  {
   "cell_type": "code",
   "execution_count": 1,
   "metadata": {},
   "outputs": [],
   "source": [
    "import os\n",
    "import time\n",
    "import datetime\n",
    "# import pymysql\n",
    "# import itertools\n",
    "\n",
    "from selenium import webdriver\n",
    "from selenium.webdriver.common.by import By\n",
    "from selenium.webdriver.chrome.service import Service\n",
    "from webdriver_manager.chrome import ChromeDriverManager\n",
    "os.environ['WDM_LOG_LEVEL'] = '0'\n",
    "YOUTUBE_CHANNEL = '날림v'"
   ]
  },
  {
   "cell_type": "code",
   "execution_count": 2,
   "metadata": {},
   "outputs": [],
   "source": [
    "def init_driver():\n",
    "    service = Service(ChromeDriverManager().install())\n",
    "    options = webdriver.ChromeOptions()\n",
    "    # options.add_argument(\"headless\")\n",
    "    options.add_argument(\"--log-level=3\")\n",
    "    driver = webdriver.Chrome(service=service, options=options)\n",
    "    driver.set_window_size(1280, 1024)\n",
    "    return driver"
   ]
  },
  {
   "cell_type": "code",
   "execution_count": 3,
   "metadata": {},
   "outputs": [],
   "source": [
    "def infinite_scroll (driver, SCROLL_PAUSE_TIME):\n",
    "   time.sleep(SCROLL_PAUSE_TIME)\n",
    "\n",
    "   while True:\n",
    "      last_height = driver.execute_script(\"return document.documentElement.scrollHeight\")\n",
    "      driver.execute_script(\"window.scrollTo(0, document.documentElement.scrollHeight);\")\n",
    "\n",
    "      time.sleep(SCROLL_PAUSE_TIME)\n",
    "\n",
    "      new_height = driver.execute_script(\"return document.documentElement.scrollHeight\")\n",
    "      if new_height == last_height:\n",
    "         break\n",
    "      last_height = new_height"
   ]
  },
  {
   "cell_type": "code",
   "execution_count": 4,
   "metadata": {},
   "outputs": [],
   "source": [
    "def get_BGM_period(driver, YOUTUBE_CHANNEL, SCROLL_PAUSE_TIME=2):\n",
    "    driver.get(f'https://www.youtube.com/c/{YOUTUBE_CHANNEL}/playlists?view=1&sort=dd&shelf_id=0')\n",
    "    infinite_scroll(driver, SCROLL_PAUSE_TIME)\n",
    "\n",
    "    playlists = driver.find_elements(By.CSS_SELECTOR, '#items > ytd-grid-playlist-renderer')\n",
    "    BGM_lists = [x.find_element(By.CSS_SELECTOR, '#video-title') for x in playlists\n",
    "                if any(word in x.find_element(By.CSS_SELECTOR, '#video-title').text for word in ['BGM'])]\n",
    "\n",
    "    YEARS = range(2020, int(datetime.datetime.strftime(datetime.datetime.today(), \"%Y\"))+1)\n",
    "    MONTHS = [\"{0:0>2d}\".format(x) for x in range(1, 13)]\n",
    "\n",
    "    playlist_href = [x.get_attribute(\"href\").split('=')[-1] for x in BGM_lists]\n",
    "    playlist_title = [x.text for x in BGM_lists]\n",
    "    BGM_dict = dict(zip(playlist_title, playlist_href))\n",
    "\n",
    "    BGM_period = {}\n",
    "    for year in YEARS:\n",
    "        month_row = {}\n",
    "        for month in MONTHS:\n",
    "            temp = dict(filter(lambda x: f'{year} {month}' in x[0], BGM_dict.items()))\n",
    "            if temp:\n",
    "                month_row[f'{month}'] = temp\n",
    "        BGM_period[f'{year}'] = month_row\n",
    "    \n",
    "    return BGM_period"
   ]
  },
  {
   "cell_type": "code",
   "execution_count": 5,
   "metadata": {},
   "outputs": [
    {
     "data": {
      "text/plain": [
       "{'2020': {'07': {'BGM 2020 07': 'PLj63tGIo1sSq_E5c9ptp8xPBcS6tANq18'},\n",
       "  '08': {'BGM 2020 08': 'PLj63tGIo1sSqZgEo3it5d7hnVo3lIgKRp'},\n",
       "  '09': {'BGM 2020 09': 'PLj63tGIo1sSphQ5n5OEL2m_EzISuNwCpI'},\n",
       "  '10': {'BGM 2020 10': 'PLj63tGIo1sSr17V1Rme01a18KXvHDOyRk'},\n",
       "  '11': {'BGM 2020 11': 'PLj63tGIo1sSrymhqcZjGN5RpkXcx2-Qse'},\n",
       "  '12': {'BGM 2020 12': 'PLj63tGIo1sSpUZJeAAAl30dsUmyJQvQ7J'}},\n",
       " '2021': {'01': {'BGM 2021 01': 'PLj63tGIo1sSo9GtiWnSNxr5PNCsRSgqFX'},\n",
       "  '02': {'BGM 2021 02': 'PLj63tGIo1sSq9NXV8qpkzQaSFLXxK9Pji'},\n",
       "  '03': {'BGM 2021 03': 'PLj63tGIo1sSrKSDvgeRhP3WJa7yszI247'},\n",
       "  '04': {'BGM 2021 04': 'PLj63tGIo1sSqmoXWRh96aMgulu-VR0qzr'},\n",
       "  '05': {'BGM 2021 05': 'PLj63tGIo1sSqYOG0UIx6G5BbJmDKl1TXx'},\n",
       "  '06': {'BGM 2021 06': 'PLj63tGIo1sSqievrWIwa7k5VvcGMCatld'},\n",
       "  '07': {'BGM 2021 07': 'PLj63tGIo1sSpDwSJxMGSED_gA1KVr8PdT'},\n",
       "  '08': {'BGM 2021 08': 'PLj63tGIo1sSra3EYTtpean0kw9XOdJzd4'},\n",
       "  '09': {'BGM 2021 09': 'PLj63tGIo1sSoJUOUTqnhpKryf87f1034o'},\n",
       "  '10': {'BGM 2021 10': 'PLj63tGIo1sSrAijwosgz5PNrY6yQnqwkR'},\n",
       "  '11': {'BGM 2021 11': 'PLj63tGIo1sSpmoVd1qrJMdL_qGWymbCw0'}}}"
      ]
     },
     "execution_count": 5,
     "metadata": {},
     "output_type": "execute_result"
    }
   ],
   "source": [
    "driver = init_driver()\n",
    "get_BGM_period(driver, YOUTUBE_CHANNEL)"
   ]
  },
  {
   "cell_type": "code",
   "execution_count": 44,
   "metadata": {},
   "outputs": [],
   "source": [
    "playlists = driver.find_elements(By.CSS_SELECTOR, '#items > ytd-grid-playlist-renderer')\n",
    "BGM_lists = [x.find_element(By.CSS_SELECTOR, '#video-title').text for x in playlists\n",
    "            if any(word in x.find_element(By.CSS_SELECTOR, '#video-title').text for word in ['BGM'])]"
   ]
  },
  {
   "cell_type": "code",
   "execution_count": 45,
   "metadata": {},
   "outputs": [
    {
     "name": "stdout",
     "output_type": "stream",
     "text": [
      "['BGM 2020 07', 'BGM 2020 08', 'BGM 2020 09', 'BGM 2020 10', 'BGM 2020 11', 'BGM 2020 12', 'BGM 2021 01', 'BGM 2021 02', 'BGM 2021 03', 'BGM 2021 04', 'BGM 2021 05', 'BGM 2021 06', 'BGM 2021 07', 'BGM 2021 08', 'BGM 2021 09', 'BGM 2021 10', 'BGM 2021 11']\n"
     ]
    }
   ],
   "source": [
    "BGM_lists.sort()\n",
    "print(BGM_lists)"
   ]
  }
 ],
 "metadata": {
  "interpreter": {
   "hash": "c2e7b7208468006d91e84aa0fa5fd965cd6727d296b96d5616100a374c9d620b"
  },
  "kernelspec": {
   "display_name": "Python 3.9.1 64-bit ('3.9.1': pyenv)",
   "language": "python",
   "name": "python3"
  },
  "language_info": {
   "codemirror_mode": {
    "name": "ipython",
    "version": 3
   },
   "file_extension": ".py",
   "mimetype": "text/x-python",
   "name": "python",
   "nbconvert_exporter": "python",
   "pygments_lexer": "ipython3",
   "version": "3.9.1"
  },
  "orig_nbformat": 4
 },
 "nbformat": 4,
 "nbformat_minor": 2
}
