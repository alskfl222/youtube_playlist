{
 "cells": [
  {
   "cell_type": "code",
   "execution_count": null,
   "metadata": {},
   "outputs": [],
   "source": [
    "import os\n",
    "import time\n",
    "import datetime\n",
    "# import pymysql\n",
    "# import itertools\n",
    "\n",
    "from selenium import webdriver\n",
    "from selenium.webdriver.common.by import By\n",
    "from selenium.webdriver.chrome.service import Service\n",
    "from webdriver_manager.chrome import ChromeDriverManager\n",
    "os.environ['WDM_LOG_LEVEL'] = '0'\n",
    "YOUTUBE_CHANNEL = '날림v'"
   ]
  },
  {
   "cell_type": "code",
   "execution_count": null,
   "metadata": {},
   "outputs": [],
   "source": [
    "def init_driver():\n",
    "    service = Service(ChromeDriverManager().install())\n",
    "    options = webdriver.ChromeOptions()\n",
    "    # options.add_argument(\"headless\")\n",
    "    options.add_argument(\"--log-level=3\")\n",
    "    driver = webdriver.Chrome(service=service, options=options)\n",
    "    driver.set_window_size(1280, 1024)\n",
    "    return driver"
   ]
  },
  {
   "cell_type": "code",
   "execution_count": null,
   "metadata": {},
   "outputs": [],
   "source": [
    "def infinite_scroll (driver, SCROLL_PAUSE_TIME):\n",
    "   time.sleep(SCROLL_PAUSE_TIME)\n",
    "\n",
    "   while True:\n",
    "      last_height = driver.execute_script(\"return document.documentElement.scrollHeight\")\n",
    "      driver.execute_script(\"window.scrollTo(0, document.documentElement.scrollHeight);\")\n",
    "\n",
    "      time.sleep(SCROLL_PAUSE_TIME)\n",
    "\n",
    "      new_height = driver.execute_script(\"return document.documentElement.scrollHeight\")\n",
    "      if new_height == last_height:\n",
    "         break\n",
    "      last_height = new_height"
   ]
  },
  {
   "cell_type": "code",
   "execution_count": null,
   "metadata": {},
   "outputs": [],
   "source": [
    "def get_BGM_lists(driver, YOUTUBE_CHANNEL, SCROLL_PAUSE_TIME=2):\n",
    "    driver.get(f'https://www.youtube.com/c/{YOUTUBE_CHANNEL}/playlists?view=1&sort=dd&shelf_id=0')\n",
    "    infinite_scroll(driver, SCROLL_PAUSE_TIME)\n",
    "\n",
    "    playlists = driver.find_elements(By.CSS_SELECTOR, '#items > ytd-grid-playlist-renderer')\n",
    "    BGM_lists = [x.find_element(By.CSS_SELECTOR, '#video-title') for x in playlists\n",
    "                if any(word in x.find_element(By.CSS_SELECTOR, '#video-title').text for word in ['BGM'])]\n",
    "\n",
    "    playlist_href = [x.get_attribute(\"href\").split('=')[-1] for x in BGM_lists]\n",
    "    playlist_title = [x.text for x in BGM_lists]\n",
    "    BGM_lists = sorted(dict(zip(playlist_title, playlist_href)).items())\n",
    "\n",
    "    return BGM_lists"
   ]
  },
  {
   "cell_type": "code",
   "execution_count": null,
   "metadata": {},
   "outputs": [],
   "source": [
    "driver = init_driver()\n",
    "BGM_lists = get_BGM_lists(driver, YOUTUBE_CHANNEL)\n",
    "print(BGM_lists)"
   ]
  },
  {
   "cell_type": "code",
   "execution_count": null,
   "metadata": {},
   "outputs": [],
   "source": [
    "def get_list_items(driver, BGM_lists, SCROLL_PAUSE_TIME=2):\n",
    "    total = []\n",
    "    for list in BGM_lists:\n",
    "        driver.get('https://www.youtube.com/playlist?list='+list[1])\n",
    "        infinite_scroll(driver, SCROLL_PAUSE_TIME)\n",
    "\n",
    "        videos = driver.find_elements(By.CSS_SELECTOR, '#meta')[:-1]\n",
    "        rows = [(x.text.split(\"\\n\")[0],\n",
    "                x.text.split(\"\\n\")[1],\n",
    "                x.find_element(By.CSS_SELECTOR, '#video-title').get_attribute(\"href\").split('&')[0].split('=')[1])\n",
    "                for x in videos]\n",
    "        total.extend(rows)\n",
    "    return total"
   ]
  },
  {
   "cell_type": "code",
   "execution_count": null,
   "metadata": {},
   "outputs": [],
   "source": [
    "total = get_list_items(driver, [BGM_lists[0]])\n",
    "print(total)"
   ]
  },
  {
   "cell_type": "code",
   "execution_count": null,
   "metadata": {},
   "outputs": [],
   "source": [
    "videos = driver.find_elements(By.CSS_SELECTOR, '#meta')[:-1]\n",
    "print([x.find_element(By.CSS_SELECTOR, '#video-title').get_attribute(\"href\").split('&')[0].split('=')[1]\n",
    "        for x in videos])"
   ]
  }
 ],
 "metadata": {
  "interpreter": {
   "hash": "c2e7b7208468006d91e84aa0fa5fd965cd6727d296b96d5616100a374c9d620b"
  },
  "kernelspec": {
   "display_name": "Python 3.9.1 64-bit ('3.9.1': pyenv)",
   "language": "python",
   "name": "python3"
  },
  "language_info": {
   "codemirror_mode": {
    "name": "ipython",
    "version": 3
   },
   "file_extension": ".py",
   "mimetype": "text/x-python",
   "name": "python",
   "nbconvert_exporter": "python",
   "pygments_lexer": "ipython3",
   "version": "3.9.1"
  },
  "orig_nbformat": 4
 },
 "nbformat": 4,
 "nbformat_minor": 2
}
