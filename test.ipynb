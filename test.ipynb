{
 "cells": [
  {
   "cell_type": "code",
   "execution_count": null,
   "metadata": {},
   "outputs": [],
   "source": [
    "from test import *\n",
    "\n",
    "BGM_lists = get_BGM_lists(YOUTUBE_CHANNEL)\n",
    "print(BGM_lists)"
   ]
  },
  {
   "cell_type": "code",
   "execution_count": null,
   "metadata": {},
   "outputs": [],
   "source": [
    "p = multiprocessing.Pool(8)\n",
    "start = time.time()\n",
    "total_lists = []\n",
    "works = p.map_async(get_list_items, BGM_lists)\n",
    "total_lists = works.get()\n",
    "end = time.time()\n",
    "print(\"working time: \", end - start)\n",
    "print(total_lists)\n",
    "p.close()\n",
    "p.join()\n"
   ]
  },
  {
   "cell_type": "markdown",
   "metadata": {},
   "source": [
    "![](youtube_playlist.png)"
   ]
  },
  {
   "cell_type": "code",
   "execution_count": null,
   "metadata": {},
   "outputs": [],
   "source": [
    "import os\n",
    "import pymysql\n",
    "from dotenv import load_dotenv\n",
    "\n",
    "load_dotenv()\n",
    "DATABASE_HOST = os.getenv('DATABASE_HOST')\n",
    "DATABASE_PORT = int(os.getenv('DATABASE_PORT'))\n",
    "DATABASE_USER = os.getenv('DATABASE_USER')\n",
    "DATABASE_PASSWORD = os.getenv('DATABASE_PASSWORD')\n",
    "db = pymysql.connect(\n",
    "        host=DATABASE_HOST,\n",
    "        port=DATABASE_PORT,\n",
    "        user=DATABASE_USER,\n",
    "        passwd=DATABASE_PASSWORD,\n",
    "        charset='utf8mb4'\n",
    ")\n",
    "cursor = db.cursor()\n",
    "\n",
    "with open(\"schema.sql\", 'r') as f:\n",
    "    sqls = [x for x in f.read().split(\";\") if x != '']\n",
    "\n",
    "for sql in sqls:\n",
    "    cursor.execute(sql)\n",
    "db.commit()\n",
    "db.close()"
   ]
  },
  {
   "cell_type": "code",
   "execution_count": null,
   "metadata": {},
   "outputs": [],
   "source": [
    "# SELECT name FROM done;\n",
    "# INSERT INTO users (name) VALUES ('alskfl');\n",
    "# SELECT name, uploader, href FROM songs\n",
    "# INSERT INTO songs (name, uploader, href) VALUES (\"{row[0]}\", \"{row[1]}\", \"{row[2]}\")\n",
    "# INSERT INTO done (name) VALUES (\"{year}-{month}\")"
   ]
  }
 ],
 "metadata": {
  "interpreter": {
   "hash": "c2e7b7208468006d91e84aa0fa5fd965cd6727d296b96d5616100a374c9d620b"
  },
  "kernelspec": {
   "display_name": "Python 3.9.1 64-bit ('3.9.1': pyenv)",
   "language": "python",
   "name": "python3"
  },
  "language_info": {
   "codemirror_mode": {
    "name": "ipython",
    "version": 3
   },
   "file_extension": ".py",
   "mimetype": "text/x-python",
   "name": "python",
   "nbconvert_exporter": "python",
   "pygments_lexer": "ipython3",
   "version": "3.9.1"
  },
  "orig_nbformat": 4
 },
 "nbformat": 4,
 "nbformat_minor": 2
}
