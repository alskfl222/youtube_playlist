{
 "cells": [
  {
   "cell_type": "code",
   "execution_count": 1,
   "metadata": {},
   "outputs": [
    {
     "name": "stdout",
     "output_type": "stream",
     "text": [
      "START crawling\n",
      "FIND 20 lists in 날림v CHANNEL\n",
      "GET BGM Data from 날림v CHANNEL in 62.81s\n",
      "END crawling\n",
      "=======================\n"
     ]
    }
   ],
   "source": [
    "from Crawling import Crawling\n",
    "\n",
    "crawl = Crawling()\n",
    "BGM_data = crawl.get_BGM_data()"
   ]
  },
  {
   "cell_type": "code",
   "execution_count": 2,
   "metadata": {},
   "outputs": [
    {
     "name": "stdout",
     "output_type": "stream",
     "text": [
      "DATABASE READY\n",
      "USER : alskfl\n",
      "Crawled BGM count: 1258\n",
      "Before BGM count: 1230\n",
      "New BGM count: 29\n",
      "Deleted BGM count: 1\n",
      "Table song updated\n",
      "=======================\n",
      "Crawled list count: 20\n",
      "BGM 2022 02 (PLj63tGIo1sSpn_QiFEDqJHxxWskdXQI5j): inserted\n",
      "Inserted list count: 1\n",
      "Deleted list count: 0\n",
      "Table list updated\n",
      "=======================\n",
      "BGM 2020 07 : 0 songs added\n",
      "BGM 2020 08 : 0 songs added\n",
      "BGM 2020 09 : 0 songs added\n",
      "BGM 2020 10 : 0 songs added\n",
      "BGM 2020 11 : 0 songs added\n",
      "BGM 2020 12 : 0 songs added\n",
      "BGM 2021 01 : 0 songs added\n",
      "BGM 2021 02 : 0 songs added\n",
      "BGM 2021 03 : 0 songs added\n",
      "BGM 2021 04 : 0 songs added\n",
      "BGM 2021 05 : 0 songs added\n",
      "BGM 2021 06 : 0 songs added\n",
      "BGM 2021 07 : 0 songs added\n",
      "BGM 2021 08 : 0 songs added\n",
      "BGM 2021 09 : 0 songs added\n",
      "BGM 2021 10 : 0 songs added\n",
      "BGM 2021 11 : 0 songs added\n",
      "BGM 2021 12 : 0 songs added\n",
      "BGM 2022 01 : 0 songs added\n",
      "BGM 2022 02 : 72 songs added\n",
      "927 20\n",
      "172 20\n",
      "903 20\n",
      "944 20\n",
      "243 20\n",
      "18 20\n",
      "1044 20\n",
      "1077 20\n",
      "1082 20\n",
      "267 20\n",
      "1090 20\n",
      "552 20\n",
      "1105 20\n",
      "1109 20\n",
      "1116 20\n",
      "1123 20\n",
      "862 20\n",
      "731 20\n",
      "1148 20\n",
      "1155 20\n",
      "450 20\n",
      "398 20\n",
      "196 20\n",
      "1179 20\n",
      "1189 20\n",
      "1192 20\n",
      "1195 20\n",
      "629 20\n",
      "1200 20\n",
      "1205 20\n",
      "1208 20\n",
      "1210 20\n",
      "35 20\n",
      "1221 20\n",
      "1229 20\n",
      "1230 20\n",
      "1231 20\n",
      "1232 20\n",
      "1233 20\n",
      "1234 20\n",
      "1235 20\n",
      "1236 20\n",
      "1237 20\n",
      "1238 20\n",
      "209 20\n",
      "1239 20\n",
      "546 20\n",
      "1240 20\n",
      "51 20\n",
      "1241 20\n",
      "289 20\n",
      "1242 20\n",
      "1243 20\n",
      "1244 20\n",
      "395 20\n",
      "1245 20\n",
      "39 20\n",
      "1246 20\n",
      "1247 20\n",
      "1248 20\n",
      "1249 20\n",
      "1250 20\n",
      "1251 20\n",
      "411 20\n",
      "1252 20\n",
      "1253 20\n",
      "1254 20\n",
      "1255 20\n",
      "1256 20\n",
      "1257 20\n",
      "1258 20\n",
      "1259 20\n"
     ]
    }
   ],
   "source": [
    "from Database import Database\n",
    "DB = Database('alskfl')\n",
    "DB.update_song(BGM_data)\n",
    "DB.update_list(BGM_data)\n",
    "DB.update_song_list(BGM_data)"
   ]
  },
  {
   "cell_type": "markdown",
   "metadata": {},
   "source": [
    "![](youtube_playlist.png)"
   ]
  },
  {
   "cell_type": "code",
   "execution_count": 1,
   "metadata": {},
   "outputs": [
    {
     "name": "stdout",
     "output_type": "stream",
     "text": [
      "test\n"
     ]
    }
   ],
   "source": [
    "print('test')"
   ]
  }
 ],
 "metadata": {
  "interpreter": {
   "hash": "c2e7b7208468006d91e84aa0fa5fd965cd6727d296b96d5616100a374c9d620b"
  },
  "kernelspec": {
   "display_name": "Python 3.9.1 64-bit ('3.9.1': pyenv)",
   "language": "python",
   "name": "python3"
  },
  "language_info": {
   "codemirror_mode": {
    "name": "ipython",
    "version": 3
   },
   "file_extension": ".py",
   "mimetype": "text/x-python",
   "name": "python",
   "nbconvert_exporter": "python",
   "pygments_lexer": "ipython3",
   "version": "3.10.2"
  },
  "orig_nbformat": 4
 },
 "nbformat": 4,
 "nbformat_minor": 2
}
