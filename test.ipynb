{
 "cells": [
  {
   "cell_type": "code",
   "execution_count": null,
   "metadata": {},
   "outputs": [],
   "source": [
    "from Crawling import Crawling\n",
    "\n",
    "crawl = Crawling()\n",
    "BGM_data = crawl.get_BGM_data()"
   ]
  },
  {
   "cell_type": "code",
   "execution_count": null,
   "metadata": {},
   "outputs": [],
   "source": [
    "total_BGM = [y for x in BGM_data.values() for y in x['items']]\n",
    "print(len(total_BGM))\n",
    "total_BGM = list(dict.fromkeys(total_BGM))\n",
    "print(len(total_BGM))"
   ]
  },
  {
   "cell_type": "code",
   "execution_count": null,
   "metadata": {},
   "outputs": [],
   "source": [
    "print(BGM_data.keys())\n",
    "print(BGM_data.values())"
   ]
  },
  {
   "cell_type": "code",
   "execution_count": 1,
   "metadata": {},
   "outputs": [
    {
     "name": "stdout",
     "output_type": "stream",
     "text": [
      "DATABASE READY\n",
      "USER : alskfl\n"
     ]
    }
   ],
   "source": [
    "from Database import Database\n",
    "DB = Database('alskfl')"
   ]
  },
  {
   "cell_type": "code",
   "execution_count": 2,
   "metadata": {},
   "outputs": [
    {
     "name": "stdout",
     "output_type": "stream",
     "text": [
      "False\n",
      "False\n",
      "True\n",
      "2\n"
     ]
    }
   ],
   "source": [
    "item = { 'name': \"BGM2\", 'href': 'href2' }\n",
    "res = DB.create_list(item)\n",
    "print(res)"
   ]
  },
  {
   "cell_type": "code",
   "execution_count": 3,
   "metadata": {},
   "outputs": [
    {
     "name": "stdout",
     "output_type": "stream",
     "text": [
      "(1,)\n"
     ]
    }
   ],
   "source": [
    "DB.get_list_id('BGM')"
   ]
  },
  {
   "cell_type": "markdown",
   "metadata": {},
   "source": [
    "![](youtube_playlist.png)"
   ]
  },
  {
   "cell_type": "code",
   "execution_count": null,
   "metadata": {},
   "outputs": [],
   "source": [
    "# SELECT name FROM done;\n",
    "# INSERT INTO users (name) VALUES ('alskfl');\n",
    "# SELECT name, uploader, href FROM songs\n",
    "# INSERT INTO songs (name, uploader, href) VALUES (\"{row[0]}\", \"{row[1]}\", \"{row[2]}\")\n",
    "# INSERT INTO done (name) VALUES (\"{year}-{month}\")"
   ]
  }
 ],
 "metadata": {
  "interpreter": {
   "hash": "c2e7b7208468006d91e84aa0fa5fd965cd6727d296b96d5616100a374c9d620b"
  },
  "kernelspec": {
   "display_name": "Python 3.9.1 64-bit ('3.9.1': pyenv)",
   "language": "python",
   "name": "python3"
  },
  "language_info": {
   "codemirror_mode": {
    "name": "ipython",
    "version": 3
   },
   "file_extension": ".py",
   "mimetype": "text/x-python",
   "name": "python",
   "nbconvert_exporter": "python",
   "pygments_lexer": "ipython3",
   "version": "3.9.1"
  },
  "orig_nbformat": 4
 },
 "nbformat": 4,
 "nbformat_minor": 2
}
