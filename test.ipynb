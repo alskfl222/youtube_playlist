{
 "cells": [
  {
   "cell_type": "code",
   "execution_count": 1,
   "metadata": {},
   "outputs": [
    {
     "name": "stdout",
     "output_type": "stream",
     "text": [
      "START crawling\n",
      "FIND 18 lists in 날림v CHANNEL\n",
      "END crawling\n",
      "GET BGM Data from 날림v CHANNEL in 59.33s\n"
     ]
    }
   ],
   "source": [
    "from Crawling import Crawling\n",
    "\n",
    "crawl = Crawling()\n",
    "BGM_data = crawl.get_BGM_data()"
   ]
  },
  {
   "cell_type": "code",
   "execution_count": 2,
   "metadata": {},
   "outputs": [
    {
     "name": "stdout",
     "output_type": "stream",
     "text": [
      "DATABASE READY\n",
      "USER : alskfl\n",
      "Crawled BGM count: 1206\n",
      "Before BGM count: 1206\n",
      "New BGM count: 0\n",
      "Deleted BGM count: 0\n",
      "Songs updated\n",
      "=======================\n",
      "Crawled list count: 18\n",
      "BGM 2020 07 (PLj63tGIo1sSq_E5c9ptp8xPBcS6tANq18): Already exists\n",
      "BGM 2020 08 (PLj63tGIo1sSqZgEo3it5d7hnVo3lIgKRp): Already exists\n",
      "BGM 2020 09 (PLj63tGIo1sSphQ5n5OEL2m_EzISuNwCpI): Already exists\n",
      "BGM 2020 10 (PLj63tGIo1sSr17V1Rme01a18KXvHDOyRk): Already exists\n",
      "BGM 2020 11 (PLj63tGIo1sSrymhqcZjGN5RpkXcx2-Qse): Already exists\n",
      "BGM 2020 12 (PLj63tGIo1sSpUZJeAAAl30dsUmyJQvQ7J): Already exists\n",
      "BGM 2021 01 (PLj63tGIo1sSo9GtiWnSNxr5PNCsRSgqFX): Already exists\n",
      "BGM 2021 02 (PLj63tGIo1sSq9NXV8qpkzQaSFLXxK9Pji): Already exists\n",
      "BGM 2021 03 (PLj63tGIo1sSrKSDvgeRhP3WJa7yszI247): Already exists\n",
      "BGM 2021 04 (PLj63tGIo1sSqmoXWRh96aMgulu-VR0qzr): Already exists\n",
      "BGM 2021 05 (PLj63tGIo1sSqYOG0UIx6G5BbJmDKl1TXx): Already exists\n",
      "BGM 2021 06 (PLj63tGIo1sSqievrWIwa7k5VvcGMCatld): Already exists\n",
      "BGM 2021 07 (PLj63tGIo1sSpDwSJxMGSED_gA1KVr8PdT): Already exists\n",
      "BGM 2021 08 (PLj63tGIo1sSra3EYTtpean0kw9XOdJzd4): Already exists\n",
      "BGM 2021 09 (PLj63tGIo1sSoJUOUTqnhpKryf87f1034o): Already exists\n",
      "BGM 2021 10 (PLj63tGIo1sSrAijwosgz5PNrY6yQnqwkR): Already exists\n",
      "BGM 2021 11 (PLj63tGIo1sSpmoVd1qrJMdL_qGWymbCw0): Already exists\n",
      "BGM 2021 12 (PLj63tGIo1sSqrSt2TnyOgiJbtb1Tb0K0a): Already exists\n",
      "Updated list count: 0\n",
      "Lists updated\n",
      "=======================\n"
     ]
    }
   ],
   "source": [
    "from Database import Database\n",
    "DB = Database('alskfl')\n",
    "DB.update_songs(BGM_data)\n",
    "DB.update_lists(BGM_data)"
   ]
  },
  {
   "cell_type": "markdown",
   "metadata": {},
   "source": [
    "![](youtube_playlist.png)"
   ]
  }
 ],
 "metadata": {
  "interpreter": {
   "hash": "c2e7b7208468006d91e84aa0fa5fd965cd6727d296b96d5616100a374c9d620b"
  },
  "kernelspec": {
   "display_name": "Python 3.9.1 64-bit ('3.9.1': pyenv)",
   "language": "python",
   "name": "python3"
  },
  "language_info": {
   "codemirror_mode": {
    "name": "ipython",
    "version": 3
   },
   "file_extension": ".py",
   "mimetype": "text/x-python",
   "name": "python",
   "nbconvert_exporter": "python",
   "pygments_lexer": "ipython3",
   "version": "3.9.1"
  },
  "orig_nbformat": 4
 },
 "nbformat": 4,
 "nbformat_minor": 2
}
