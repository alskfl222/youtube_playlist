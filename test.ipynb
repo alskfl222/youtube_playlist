{
 "cells": [
  {
   "cell_type": "code",
   "execution_count": null,
   "metadata": {},
   "outputs": [],
   "source": [
    "from Crawling import Crawling\n",
    "\n",
    "crawl = Crawling()\n",
    "BGM_data = crawl.get_BGM_data()"
   ]
  },
  {
   "cell_type": "code",
   "execution_count": null,
   "metadata": {},
   "outputs": [],
   "source": [
    "from Database import Database\n",
    "DB = Database('alskfl')\n",
    "DB.update_song(BGM_data)\n",
    "DB.update_list(BGM_data)"
   ]
  },
  {
   "cell_type": "code",
   "execution_count": null,
   "metadata": {},
   "outputs": [],
   "source": [
    "def update_song_list(BGM_data):\n",
    "    for list in BGM_data.keys():\n",
    "        list_id = DB.get_list_id(list)\n",
    "        crawled_songs = [x[2] for x in BGM_data[list]['items']]\n",
    "        db = DB.connect()\n",
    "        cursor = db.cursor()\n",
    "        sql = f'''\n",
    "            SELECT song.href FROM song_list\n",
    "            JOIN song ON song_list.id = song.id\n",
    "        '''\n",
    "        cursor.execute(sql)\n",
    "        exist_songs = [x[0] for x in cursor.fetchall()]\n",
    "        insert_songs = [x for x in crawled_songs if x not in exist_songs]\n",
    "        for song_href in insert_songs:\n",
    "            song_id = DB.get_song_id(song_href)\n",
    "            sql = f'''\n",
    "                INSERT INTO song_list\n",
    "                (song_id, list_id)\n",
    "                VALUES\n",
    "                ({song_id}, {list_id});\n",
    "            '''\n",
    "            cursor.execute(sql)\n",
    "        db.commit()\n",
    "        db.close()\n",
    "        break\n",
    "\n",
    "update_song_list(BGM_data)"
   ]
  },
  {
   "cell_type": "markdown",
   "metadata": {},
   "source": [
    "![](youtube_playlist.png)"
   ]
  }
 ],
 "metadata": {
  "interpreter": {
   "hash": "c2e7b7208468006d91e84aa0fa5fd965cd6727d296b96d5616100a374c9d620b"
  },
  "kernelspec": {
   "display_name": "Python 3.9.1 64-bit ('3.9.1': pyenv)",
   "language": "python",
   "name": "python3"
  },
  "language_info": {
   "codemirror_mode": {
    "name": "ipython",
    "version": 3
   },
   "file_extension": ".py",
   "mimetype": "text/x-python",
   "name": "python",
   "nbconvert_exporter": "python",
   "pygments_lexer": "ipython3",
   "version": "3.9.1"
  },
  "orig_nbformat": 4
 },
 "nbformat": 4,
 "nbformat_minor": 2
}
