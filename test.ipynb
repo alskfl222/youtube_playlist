{
 "cells": [
  {
   "cell_type": "code",
   "execution_count": null,
   "metadata": {},
   "outputs": [],
   "source": [
    "from Crawling import Crawling\n",
    "\n",
    "crawl = Crawling()\n",
    "BGM_data = crawl.get_BGM_data()"
   ]
  },
  {
   "cell_type": "code",
   "execution_count": null,
   "metadata": {},
   "outputs": [],
   "source": [
    "from Database import Database\n",
    "DB = Database('alskfl')\n",
    "DB.update_songs(BGM_data)"
   ]
  },
  {
   "cell_type": "code",
   "execution_count": 28,
   "metadata": {},
   "outputs": [
    {
     "name": "stdout",
     "output_type": "stream",
     "text": [
      "<zip object at 0x0000025DD0F47540>\n"
     ]
    }
   ],
   "source": [
    "keys = (k for k in BGM_data.keys())\n",
    "values = (v['href'] for v in BGM_data.values())\n",
    "list_items = zip(keys, values)\n",
    "print(list_items)"
   ]
  },
  {
   "cell_type": "code",
   "execution_count": 29,
   "metadata": {},
   "outputs": [],
   "source": [
    "def update_list(list_item):\n",
    "    db = DB.connect()\n",
    "    cursor = db.cursor()\n",
    "    sql = f'''\n",
    "        SELECT id FROM list\n",
    "        WHERE name = \"{list_item[0]}\"\n",
    "        OR href = \"{list_item[1]}\"\n",
    "    '''\n",
    "    cursor.execute(sql)\n",
    "    res = cursor.fetchone()\n",
    "    if res:\n",
    "        print(f\"{list_item[0]}: Already exists\")\n",
    "        return\n",
    "    sql = f'''\n",
    "        INSERT INTO list\n",
    "        (name, href, user_id)\n",
    "        VALUES\n",
    "        (\"{list_item[0]}\", \"{list_item[1]}\", {DB.user_id});\n",
    "    '''\n",
    "    cursor.execute(sql)\n",
    "    db.commit()\n",
    "    db.close()        \n",
    "    return cursor.lastrowid"
   ]
  },
  {
   "cell_type": "code",
   "execution_count": 30,
   "metadata": {},
   "outputs": [
    {
     "name": "stdout",
     "output_type": "stream",
     "text": [
      "BGM 2020 07: Already exists\n",
      "BGM 2020 08: Already exists\n",
      "BGM 2020 09: Already exists\n",
      "BGM 2020 10: Already exists\n",
      "BGM 2020 11: Already exists\n",
      "BGM 2020 12: Already exists\n",
      "BGM 2021 01: Already exists\n",
      "BGM 2021 02: Already exists\n",
      "BGM 2021 03: Already exists\n",
      "BGM 2021 04: Already exists\n",
      "BGM 2021 05: Already exists\n",
      "BGM 2021 06: Already exists\n",
      "BGM 2021 07: Already exists\n",
      "BGM 2021 08: Already exists\n",
      "BGM 2021 09: Already exists\n",
      "BGM 2021 10: Already exists\n",
      "BGM 2021 11: Already exists\n",
      "BGM 2021 12: Already exists\n"
     ]
    }
   ],
   "source": [
    "for item in list_items:\n",
    "    update_list(item)"
   ]
  },
  {
   "cell_type": "markdown",
   "metadata": {},
   "source": [
    "![](youtube_playlist.png)"
   ]
  }
 ],
 "metadata": {
  "interpreter": {
   "hash": "c2e7b7208468006d91e84aa0fa5fd965cd6727d296b96d5616100a374c9d620b"
  },
  "kernelspec": {
   "display_name": "Python 3.9.1 64-bit ('3.9.1': pyenv)",
   "language": "python",
   "name": "python3"
  },
  "language_info": {
   "codemirror_mode": {
    "name": "ipython",
    "version": 3
   },
   "file_extension": ".py",
   "mimetype": "text/x-python",
   "name": "python",
   "nbconvert_exporter": "python",
   "pygments_lexer": "ipython3",
   "version": "3.9.1"
  },
  "orig_nbformat": 4
 },
 "nbformat": 4,
 "nbformat_minor": 2
}
